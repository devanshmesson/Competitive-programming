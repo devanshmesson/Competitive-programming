{
  "nbformat": 4,
  "nbformat_minor": 0,
  "metadata": {
    "colab": {
      "name": "Numpy_practice.ipynb",
      "provenance": [],
      "authorship_tag": "ABX9TyPp8Dlj3joxMd17Wke8Gh6c",
      "include_colab_link": true
    },
    "kernelspec": {
      "name": "python3",
      "display_name": "Python 3"
    },
    "language_info": {
      "name": "python"
    }
  },
  "cells": [
    {
      "cell_type": "markdown",
      "metadata": {
        "id": "view-in-github",
        "colab_type": "text"
      },
      "source": [
        "<a href=\"https://colab.research.google.com/github/devanshmesson/Competitive-programming/blob/master/Numpy_practice.ipynb\" target=\"_parent\"><img src=\"https://colab.research.google.com/assets/colab-badge.svg\" alt=\"Open In Colab\"/></a>"
      ]
    },
    {
      "cell_type": "markdown",
      "metadata": {
        "id": "B1gwWD3QDmMa"
      },
      "source": [
        "#Numpy library for python (Numerical Python)\n",
        "\n",
        "Use:\n",
        "\n",
        "1.   This library is used to work with multidimensional arrays.\n",
        "2.   Provides attributes and mathematical functions which really provides a better way of handling data for processing.\n",
        "\n",
        "Why Numpy and what was wrong with Python lists?  \n",
        " \n",
        "1. It consumes relatively very less memory in comparison to Python lists.\n",
        "2. Because it ensures continuous memory allocation(efficient storage), it is faster that Python list.\n",
        "3. In addition, Numpy provides much better mathematical fucntions which makes it easy that Python list."
      ]
    },
    {
      "cell_type": "markdown",
      "metadata": {
        "id": "vPr_x6Y-7pBh"
      },
      "source": [
        "#Comparison between a Python list and a Numpy array\n",
        "Conclusion: Numpy array is memory efficient"
      ]
    },
    {
      "cell_type": "code",
      "metadata": {
        "colab": {
          "base_uri": "https://localhost:8080/"
        },
        "id": "DSeSl1c27u6q",
        "outputId": "d1b3ae25-3ace-4b0a-e8bf-9e07a95d7194"
      },
      "source": [
        "import sys\n",
        "python_list=[1,2,3,4,5]\n",
        "numpy_array=np.array([1,2,3,4,5])\n",
        "\n",
        "print(\"Memory consumed by python list:\",end=\" \")\n",
        "print(sys.getsizeof(1)*len(python_list),end=\" \")\n",
        "print(\"bytes\")\n",
        "\n",
        "print(\"Memory consumed by numpy array:\",end=\" \")\n",
        "print(numpy_array.itemsize*numpy_array.size,end=\" \")\n",
        "print(\"bytes\")"
      ],
      "execution_count": 289,
      "outputs": [
        {
          "output_type": "stream",
          "text": [
            "Memory consumed by python list: 140 bytes\n",
            "Memory consumed by numpy array: 40 bytes\n"
          ],
          "name": "stdout"
        }
      ]
    },
    {
      "cell_type": "markdown",
      "metadata": {
        "id": "kIgXcB-olQUu"
      },
      "source": [
        "#Some important Numpy functions and attributes\n"
      ]
    },
    {
      "cell_type": "markdown",
      "metadata": {
        "id": "NAY5e03rGmJ1"
      },
      "source": [
        "##1. 1D and 2D array creation\n",
        "1.1 Creating an array of list through numpy  \n",
        "1.2 Creating a 2D array by creating an array of multiple lists through numpy   \n",
        "1.3 Creating a 2D array of custom size filled with zeroes  \n",
        "1.4 Creating an array containing elements from 0 to n-1   \n",
        "1.5 Create an array of n elements in which elements are equidistant from each other in a specified range    \n",
        "1.6 Create an array with random values  \n",
        "1.7 Creating an identity matrix of size n x n"
      ]
    },
    {
      "cell_type": "code",
      "metadata": {
        "colab": {
          "base_uri": "https://localhost:8080/"
        },
        "id": "RxwJEX7pHGnX",
        "outputId": "00096883-ec33-425f-b19a-34a6becc0e02"
      },
      "source": [
        "#importing numpy library\n",
        "import numpy as np\n",
        "\n",
        "#Creating an array of list through numpy \n",
        "arr=np.array([4,3,2,1])\n",
        "print(\"1D array:\")\n",
        "arr"
      ],
      "execution_count": 290,
      "outputs": [
        {
          "output_type": "stream",
          "text": [
            "1D array:\n"
          ],
          "name": "stdout"
        },
        {
          "output_type": "execute_result",
          "data": {
            "text/plain": [
              "array([4, 3, 2, 1])"
            ]
          },
          "metadata": {
            "tags": []
          },
          "execution_count": 290
        }
      ]
    },
    {
      "cell_type": "code",
      "metadata": {
        "colab": {
          "base_uri": "https://localhost:8080/"
        },
        "id": "uWh3zcFNJMsD",
        "outputId": "262ff882-21a9-4ecd-bb8a-c664df660bf4"
      },
      "source": [
        "#Creating a 2D array by creating an array of multiple lists through numpy \n",
        "arr2d=np.array([[9,8,0],\n",
        "                [6,0,5],\n",
        "                [10,3,1]])\n",
        "print(\"2D array:\")\n",
        "arr2d"
      ],
      "execution_count": 291,
      "outputs": [
        {
          "output_type": "stream",
          "text": [
            "2D array:\n"
          ],
          "name": "stdout"
        },
        {
          "output_type": "execute_result",
          "data": {
            "text/plain": [
              "array([[ 9,  8,  0],\n",
              "       [ 6,  0,  5],\n",
              "       [10,  3,  1]])"
            ]
          },
          "metadata": {
            "tags": []
          },
          "execution_count": 291
        }
      ]
    },
    {
      "cell_type": "code",
      "metadata": {
        "colab": {
          "base_uri": "https://localhost:8080/"
        },
        "id": "uDVtvNNHIGob",
        "outputId": "454470b0-57b4-48c2-d340-c56bbd6b9c9e"
      },
      "source": [
        "#Creating a 2D array of custom size filled with zeroes\n",
        "zero=np.zeros((2,5)) #2 rows and 5 columns\n",
        "zero"
      ],
      "execution_count": 292,
      "outputs": [
        {
          "output_type": "execute_result",
          "data": {
            "text/plain": [
              "array([[0., 0., 0., 0., 0.],\n",
              "       [0., 0., 0., 0., 0.]])"
            ]
          },
          "metadata": {
            "tags": []
          },
          "execution_count": 292
        }
      ]
    },
    {
      "cell_type": "code",
      "metadata": {
        "colab": {
          "base_uri": "https://localhost:8080/"
        },
        "id": "Q1JItYYxdOvR",
        "outputId": "4dc16a1b-cc6c-45cd-af71-d69a4501b2ce"
      },
      "source": [
        "#Creating an array containing elements from 0 to n-1\n",
        "arr_cont=np.arange(15)\n",
        "arr_cont"
      ],
      "execution_count": 293,
      "outputs": [
        {
          "output_type": "execute_result",
          "data": {
            "text/plain": [
              "array([ 0,  1,  2,  3,  4,  5,  6,  7,  8,  9, 10, 11, 12, 13, 14])"
            ]
          },
          "metadata": {
            "tags": []
          },
          "execution_count": 293
        }
      ]
    },
    {
      "cell_type": "code",
      "metadata": {
        "colab": {
          "base_uri": "https://localhost:8080/"
        },
        "id": "FiFP88NmdmKm",
        "outputId": "99651378-067e-4a44-9412-325db3bd7d71"
      },
      "source": [
        "#Create an array of n elements in which elements are equidistant from each other in a specified range\n",
        "equi_arr = np.linspace(1,10,4) #1 is the starting number, 10 is the stopping number, 4 represents no. of elements\n",
        "equi_arr"
      ],
      "execution_count": 294,
      "outputs": [
        {
          "output_type": "execute_result",
          "data": {
            "text/plain": [
              "array([ 1.,  4.,  7., 10.])"
            ]
          },
          "metadata": {
            "tags": []
          },
          "execution_count": 294
        }
      ]
    },
    {
      "cell_type": "code",
      "metadata": {
        "colab": {
          "base_uri": "https://localhost:8080/"
        },
        "id": "Vp0hcdVneyGO",
        "outputId": "82ac8a14-aa60-4bfb-e7f7-b03408490b8e"
      },
      "source": [
        "#Create an array with random values\n",
        "rand=np.empty((2,3)) #2 rows and 3 columns\n",
        "rand"
      ],
      "execution_count": 295,
      "outputs": [
        {
          "output_type": "execute_result",
          "data": {
            "text/plain": [
              "array([[4.64264792e-310, 0.00000000e+000, 0.00000000e+000],\n",
              "       [0.00000000e+000, 0.00000000e+000, 0.00000000e+000]])"
            ]
          },
          "metadata": {
            "tags": []
          },
          "execution_count": 295
        }
      ]
    },
    {
      "cell_type": "code",
      "metadata": {
        "colab": {
          "base_uri": "https://localhost:8080/"
        },
        "id": "LBSYp1FKfCe0",
        "outputId": "917e23b0-8498-4fe1-a9cb-27ed59de5995"
      },
      "source": [
        "#Creating an identity matrix of size n x n\n",
        "iden=np.identity(5) #5 rows and 5 columns\n",
        "iden"
      ],
      "execution_count": 296,
      "outputs": [
        {
          "output_type": "execute_result",
          "data": {
            "text/plain": [
              "array([[1., 0., 0., 0., 0.],\n",
              "       [0., 1., 0., 0., 0.],\n",
              "       [0., 0., 1., 0., 0.],\n",
              "       [0., 0., 0., 1., 0.],\n",
              "       [0., 0., 0., 0., 1.]])"
            ]
          },
          "metadata": {
            "tags": []
          },
          "execution_count": 296
        }
      ]
    },
    {
      "cell_type": "markdown",
      "metadata": {
        "id": "-Ig3cUTuhxdq"
      },
      "source": [
        "##2.Manipulating the structure of 2D array\n",
        "2.1 Reshaping a 2D array  \n",
        "2.2 Converting 2D array to 1D array  \n",
        "2.3 Convert a Nummpy array to python list  \n",
        "2.4 Transpose a 2D array  \n",
        "2.5 Flatten a 2D array"
      ]
    },
    {
      "cell_type": "code",
      "metadata": {
        "colab": {
          "base_uri": "https://localhost:8080/"
        },
        "id": "tKqG_ywXh11g",
        "outputId": "97438c08-c95b-4859-bb72-288aca0f4066"
      },
      "source": [
        "#Reshaping a 2D array\n",
        "arr2d.reshape((9,1))"
      ],
      "execution_count": 297,
      "outputs": [
        {
          "output_type": "execute_result",
          "data": {
            "text/plain": [
              "array([[ 9],\n",
              "       [ 8],\n",
              "       [ 0],\n",
              "       [ 6],\n",
              "       [ 0],\n",
              "       [ 5],\n",
              "       [10],\n",
              "       [ 3],\n",
              "       [ 1]])"
            ]
          },
          "metadata": {
            "tags": []
          },
          "execution_count": 297
        }
      ]
    },
    {
      "cell_type": "code",
      "metadata": {
        "colab": {
          "base_uri": "https://localhost:8080/"
        },
        "id": "ngYD2CbfiUfQ",
        "outputId": "b3a9b403-fa59-4617-ce92-2d8ac154c98c"
      },
      "source": [
        "#Converting 2D array to 1D array\n",
        "arr2d.ravel()"
      ],
      "execution_count": 298,
      "outputs": [
        {
          "output_type": "execute_result",
          "data": {
            "text/plain": [
              "array([ 9,  8,  0,  6,  0,  5, 10,  3,  1])"
            ]
          },
          "metadata": {
            "tags": []
          },
          "execution_count": 298
        }
      ]
    },
    {
      "cell_type": "code",
      "metadata": {
        "colab": {
          "base_uri": "https://localhost:8080/"
        },
        "id": "IZ4iguPGl2pg",
        "outputId": "6c5af7a6-6dfb-4d47-c50d-787462d998e9"
      },
      "source": [
        "#Converting a numpy array to python list\n",
        "arr.tolist()\n"
      ],
      "execution_count": 299,
      "outputs": [
        {
          "output_type": "execute_result",
          "data": {
            "text/plain": [
              "[4, 3, 2, 1]"
            ]
          },
          "metadata": {
            "tags": []
          },
          "execution_count": 299
        }
      ]
    },
    {
      "cell_type": "code",
      "metadata": {
        "colab": {
          "base_uri": "https://localhost:8080/"
        },
        "id": "_60n6FuUoFN6",
        "outputId": "b81ad4f5-d1e5-4bc0-cec0-003c0974a9d1"
      },
      "source": [
        "#Transpose a 2D array\n",
        "arr2d.T"
      ],
      "execution_count": 300,
      "outputs": [
        {
          "output_type": "execute_result",
          "data": {
            "text/plain": [
              "array([[ 9,  6, 10],\n",
              "       [ 8,  0,  3],\n",
              "       [ 0,  5,  1]])"
            ]
          },
          "metadata": {
            "tags": []
          },
          "execution_count": 300
        }
      ]
    },
    {
      "cell_type": "code",
      "metadata": {
        "colab": {
          "base_uri": "https://localhost:8080/"
        },
        "id": "-wj-YNYsoakw",
        "outputId": "99977658-037d-4c08-88e5-459fb7a7a3ff"
      },
      "source": [
        "#Flatten a 2D array\n",
        "arr2d.flat\n",
        "for element in arr2d.flat:\n",
        "  print(element,end=\" \")\n"
      ],
      "execution_count": 301,
      "outputs": [
        {
          "output_type": "stream",
          "text": [
            "9 8 0 6 0 5 10 3 1 "
          ],
          "name": "stdout"
        }
      ]
    },
    {
      "cell_type": "markdown",
      "metadata": {
        "id": "2V8c9rOJiz_k"
      },
      "source": [
        "#Numpy axis (important concept)\n",
        "An axis represents a dimension  \n",
        "In 1D array, axis0 is present  \n",
        "In 2D array, axis0,axis1 are present\n",
        "\n",
        "axis0 represents column and axis1 represents row"
      ]
    },
    {
      "cell_type": "markdown",
      "metadata": {
        "id": "-vzA1gC-lfvp"
      },
      "source": [
        "#3.Mathematical Numpy functions and attributes\n",
        "3.1 Return the index of maximum element in a 2D array  \n",
        "3.2 Return the index of minimum element in a 2D array  \n",
        "3.3 Return the position of all elements of the array suppossing the array is sorted  \n",
        "3.4 Return sum of all elements of 2D or 1D array  \n",
        "3.5  Return the index of maximum element of each column in a 2D array  \n",
        "3.6  Return the index of maximum element of each row in a 2D array  \n",
        "3.7 Return the position of elements of a particular row of the 2d array suppossing that particular row of the 2d array is sorted  \n",
        "3.8 Return the position of elements of a particular column of the 2d array suppossing that particular column of the 2d array is sorted  \n",
        "3.9 Taking square root of all elements of the array/ 2d array  \n",
        "3.10 Return number of dimensions of array/2d array   \n",
        "3.11 Return number of elements in array/2d array  \n",
        "3.12 Return minimum element in the array/2d array  \n",
        "3.13 Return maximium element in the array/2d array    \n",
        "3.14 Return indexes of elements in array/2d array where elements are greater than 5  \n",
        "3.15 Count all non-zero elements in array/2d array  \n",
        "3.16 Return indexes of all non-zero elements in array/2d array  \n",
        "3.17 Add corresponding elements of two 2d arrays  \n",
        "3.18 Multiply corresponding elements of two 2d arrays  \n",
        "3.19 Return total bytes consumed by the array\n",
        "\n"
      ]
    },
    {
      "cell_type": "code",
      "metadata": {
        "colab": {
          "base_uri": "https://localhost:8080/"
        },
        "id": "2s9hJ-gernh3",
        "outputId": "e73aa366-8bbc-4943-c7c1-24cb584044e4"
      },
      "source": [
        "#3.1 Return the index of maximum element in a 2D array\n",
        "np.argmax(arr2d)\n",
        "##After flattening the array, it finds the index of the maximum element"
      ],
      "execution_count": 302,
      "outputs": [
        {
          "output_type": "execute_result",
          "data": {
            "text/plain": [
              "6"
            ]
          },
          "metadata": {
            "tags": []
          },
          "execution_count": 302
        }
      ]
    },
    {
      "cell_type": "code",
      "metadata": {
        "colab": {
          "base_uri": "https://localhost:8080/"
        },
        "id": "8hAhFVNDskNS",
        "outputId": "3e393fe5-e7fe-46c0-9fac-b55cfed7411b"
      },
      "source": [
        "#3.2 Return the index of minimum element in a 2D array\n",
        "np.argmin(arr2d)\n",
        "##After flattening the array, it finds the index of the minimum element"
      ],
      "execution_count": 303,
      "outputs": [
        {
          "output_type": "execute_result",
          "data": {
            "text/plain": [
              "2"
            ]
          },
          "metadata": {
            "tags": []
          },
          "execution_count": 303
        }
      ]
    },
    {
      "cell_type": "code",
      "metadata": {
        "colab": {
          "base_uri": "https://localhost:8080/"
        },
        "id": "ah4A-xAistIQ",
        "outputId": "00c3ffc9-e9ed-45a2-97c6-bc384631b076"
      },
      "source": [
        "#3.3 Return the position of all elements of the array suppossing the array is sorted\n",
        "np.argsort(arr) "
      ],
      "execution_count": 304,
      "outputs": [
        {
          "output_type": "execute_result",
          "data": {
            "text/plain": [
              "array([3, 2, 1, 0])"
            ]
          },
          "metadata": {
            "tags": []
          },
          "execution_count": 304
        }
      ]
    },
    {
      "cell_type": "code",
      "metadata": {
        "colab": {
          "base_uri": "https://localhost:8080/"
        },
        "id": "ARbETXGAtD_e",
        "outputId": "c7b074eb-3b3d-4027-9f77-ff5d84d8da1c"
      },
      "source": [
        "#3.4 Return sum of all elements of 2D or 1D array\n",
        "arr2d.sum()"
      ],
      "execution_count": 305,
      "outputs": [
        {
          "output_type": "execute_result",
          "data": {
            "text/plain": [
              "42"
            ]
          },
          "metadata": {
            "tags": []
          },
          "execution_count": 305
        }
      ]
    },
    {
      "cell_type": "code",
      "metadata": {
        "colab": {
          "base_uri": "https://localhost:8080/"
        },
        "id": "zD2eWp70vLxc",
        "outputId": "177cacf2-ca95-4e9e-cd1c-dd9ea19e3a4f"
      },
      "source": [
        "#3.5 Return the index of maximum element of a each column in a 2D array\n",
        "arr2d.argmax(axis=0)\n",
        "#axis0 represents column"
      ],
      "execution_count": 306,
      "outputs": [
        {
          "output_type": "execute_result",
          "data": {
            "text/plain": [
              "array([2, 0, 1])"
            ]
          },
          "metadata": {
            "tags": []
          },
          "execution_count": 306
        }
      ]
    },
    {
      "cell_type": "code",
      "metadata": {
        "colab": {
          "base_uri": "https://localhost:8080/"
        },
        "id": "xHRa2GowvuXv",
        "outputId": "c5449725-e638-47e3-b053-b7ebb3e6d725"
      },
      "source": [
        "#3.6 Return the index of maximum element of a each row in a 2D array\n",
        "arr2d.argmax(axis=1)\n",
        "#axis1 represents row"
      ],
      "execution_count": 307,
      "outputs": [
        {
          "output_type": "execute_result",
          "data": {
            "text/plain": [
              "array([0, 0, 0])"
            ]
          },
          "metadata": {
            "tags": []
          },
          "execution_count": 307
        }
      ]
    },
    {
      "cell_type": "code",
      "metadata": {
        "colab": {
          "base_uri": "https://localhost:8080/"
        },
        "id": "WgI2C29NwXdu",
        "outputId": "51728d70-b178-4000-9be0-c3c983af2047"
      },
      "source": [
        "#3.7 Return the position of elements of a particular row of the 2d array suppossing that particular row of the 2d array is sorted\n",
        "arr2d.argsort(axis=1)\n",
        "#axis1 represents row\n",
        "#In the output below, 2 in first column first row means that element at first row and first column must be at first row third column, In order to sort first row"
      ],
      "execution_count": 308,
      "outputs": [
        {
          "output_type": "execute_result",
          "data": {
            "text/plain": [
              "array([[2, 1, 0],\n",
              "       [1, 2, 0],\n",
              "       [2, 1, 0]])"
            ]
          },
          "metadata": {
            "tags": []
          },
          "execution_count": 308
        }
      ]
    },
    {
      "cell_type": "code",
      "metadata": {
        "colab": {
          "base_uri": "https://localhost:8080/"
        },
        "id": "o9UMC9F-tNst",
        "outputId": "31bbfd5c-1f5f-4a47-86f6-4d056e8bf781"
      },
      "source": [
        "#3.8 Return the position of elements of a particular column of the 2d array suppossing that particular column of the 2d array is sorted\n",
        "arr2d.argsort(axis=0)\n",
        "#axis0 represents column \n",
        "#In the output below, 1 in first column first row means that element at first row and first column must be at second row first column, In order to sort first column"
      ],
      "execution_count": 309,
      "outputs": [
        {
          "output_type": "execute_result",
          "data": {
            "text/plain": [
              "array([[1, 1, 0],\n",
              "       [0, 2, 2],\n",
              "       [2, 0, 1]])"
            ]
          },
          "metadata": {
            "tags": []
          },
          "execution_count": 309
        }
      ]
    },
    {
      "cell_type": "code",
      "metadata": {
        "colab": {
          "base_uri": "https://localhost:8080/"
        },
        "id": "tdL-WDz_ucP6",
        "outputId": "b6d9e6db-646f-46e4-8599-2799f60b0fb9"
      },
      "source": [
        "#3.9 Taking square root of all elements of the array/ 2d array\n",
        "np.sqrt(arr)"
      ],
      "execution_count": 310,
      "outputs": [
        {
          "output_type": "execute_result",
          "data": {
            "text/plain": [
              "array([2.        , 1.73205081, 1.41421356, 1.        ])"
            ]
          },
          "metadata": {
            "tags": []
          },
          "execution_count": 310
        }
      ]
    },
    {
      "cell_type": "code",
      "metadata": {
        "colab": {
          "base_uri": "https://localhost:8080/"
        },
        "id": "UVi5crgswuaY",
        "outputId": "f5ff1ce9-b1cd-4da2-9cfc-a74b3dbc82e2"
      },
      "source": [
        "#3.10 Return number of dimensions of array/2d array\n",
        "arr2d.ndim"
      ],
      "execution_count": 311,
      "outputs": [
        {
          "output_type": "execute_result",
          "data": {
            "text/plain": [
              "2"
            ]
          },
          "metadata": {
            "tags": []
          },
          "execution_count": 311
        }
      ]
    },
    {
      "cell_type": "code",
      "metadata": {
        "colab": {
          "base_uri": "https://localhost:8080/"
        },
        "id": "8R8ay7X9w0XP",
        "outputId": "6a950537-01c0-4424-ddb0-23ca57299566"
      },
      "source": [
        "#3.11 Return number of elements in array/2d array\n",
        "arr2d.size"
      ],
      "execution_count": 312,
      "outputs": [
        {
          "output_type": "execute_result",
          "data": {
            "text/plain": [
              "9"
            ]
          },
          "metadata": {
            "tags": []
          },
          "execution_count": 312
        }
      ]
    },
    {
      "cell_type": "code",
      "metadata": {
        "colab": {
          "base_uri": "https://localhost:8080/"
        },
        "id": "7-15aNlYxAvo",
        "outputId": "36a125d1-829b-4134-8e13-b1655ac95d1f"
      },
      "source": [
        "#3.12 Return minimum element in the array/2d array\n",
        "arr.min()"
      ],
      "execution_count": 313,
      "outputs": [
        {
          "output_type": "execute_result",
          "data": {
            "text/plain": [
              "1"
            ]
          },
          "metadata": {
            "tags": []
          },
          "execution_count": 313
        }
      ]
    },
    {
      "cell_type": "code",
      "metadata": {
        "colab": {
          "base_uri": "https://localhost:8080/"
        },
        "id": "ODarO6IW0pcq",
        "outputId": "c1f493c1-6bcc-4350-f8fc-172e8df8f434"
      },
      "source": [
        "#3.13 Return maximium element in the array/2d array\n",
        "arr2d.max()"
      ],
      "execution_count": 314,
      "outputs": [
        {
          "output_type": "execute_result",
          "data": {
            "text/plain": [
              "10"
            ]
          },
          "metadata": {
            "tags": []
          },
          "execution_count": 314
        }
      ]
    },
    {
      "cell_type": "code",
      "metadata": {
        "colab": {
          "base_uri": "https://localhost:8080/"
        },
        "id": "s4e8QSSF02xr",
        "outputId": "0be7c30a-a37a-4cac-aa78-87f5f7282257"
      },
      "source": [
        "#3.14 Return indexes of elements in array/2d array where elements are greater than 5\n",
        "np.where(arr2d>5)\n",
        "\n",
        "#In the output, first array contains the indexes of elements column-wise\n",
        "\n",
        "#Matrix is indexed as follows:\n",
        "# 0 0 0\n",
        "# 1 1 1\n",
        "# 2 2 2\n",
        "\n",
        "#Our 2d array is :\n",
        "# 9 8 0\n",
        "# 6 0 5\n",
        "# 10 3 1\n",
        "\n",
        "#Hence output is 0,0,1,2\n",
        "#--------------------------------------------------------------------------------\n",
        "\n",
        "#Similary, In the output, second array contains the indexes of elements row-wise\n",
        "\n",
        "#Matrix is indexed as follows:\n",
        "# 0 1 2\n",
        "# 0 1 2\n",
        "# 0 1 2\n",
        "\n",
        "#Our 2d array is :\n",
        "# 9 8 0 \n",
        "# 6 0 5\n",
        "# 10 3 1\n",
        "\n",
        "#Hence output is 0,1,0,0"
      ],
      "execution_count": 315,
      "outputs": [
        {
          "output_type": "execute_result",
          "data": {
            "text/plain": [
              "(array([0, 0, 1, 2]), array([0, 1, 0, 0]))"
            ]
          },
          "metadata": {
            "tags": []
          },
          "execution_count": 315
        }
      ]
    },
    {
      "cell_type": "code",
      "metadata": {
        "colab": {
          "base_uri": "https://localhost:8080/"
        },
        "id": "dgA3EkOE4h5T",
        "outputId": "5fc868ea-e711-4360-d637-de27f2f1b9a0"
      },
      "source": [
        "#3.15 Count all non-zero elements in array/2d array\n",
        "np.count_nonzero(arr2d)"
      ],
      "execution_count": 316,
      "outputs": [
        {
          "output_type": "execute_result",
          "data": {
            "text/plain": [
              "7"
            ]
          },
          "metadata": {
            "tags": []
          },
          "execution_count": 316
        }
      ]
    },
    {
      "cell_type": "code",
      "metadata": {
        "colab": {
          "base_uri": "https://localhost:8080/"
        },
        "id": "zU_3l6UU4nnn",
        "outputId": "67baf91d-8048-4c79-b3d7-e283ceaf5527"
      },
      "source": [
        "#3.16 Return indexes of all non-zero elements in array/2d array\n",
        "np.nonzero(arr2d)\n",
        "\n",
        "#In the output, first array contains the indexes of elements > 0 column-wise\n",
        "\n",
        "#Matrix is indexed as follows:\n",
        "# 0 0 0\n",
        "# 1 1 1\n",
        "# 2 2 2\n",
        "\n",
        "#Our 2d array is :\n",
        "# 9 8 0\n",
        "# 6 0 5\n",
        "# 10 3 1\n",
        "\n",
        "#Hence output is [0, 1, 2, 0, 2, 1, 2] which is rearranged as: [0, 0, 1, 1, 2, 2, 2]\n",
        "#--------------------------------------------------------------------------------\n",
        "\n",
        "#Similary, In the output, second array contains the indexes of elements row-wise\n",
        "\n",
        "#Matrix is indexed as follows:\n",
        "# 0 1 2\n",
        "# 0 1 2\n",
        "# 0 1 2\n",
        "\n",
        "#Our 2d array is :\n",
        "# 9 8 3 \n",
        "# 6 4 5\n",
        "# 10 3 1\n",
        "\n",
        "#Hence output is [0,1,0,2,0,1,2]"
      ],
      "execution_count": 317,
      "outputs": [
        {
          "output_type": "execute_result",
          "data": {
            "text/plain": [
              "(array([0, 0, 1, 1, 2, 2, 2]), array([0, 1, 0, 2, 0, 1, 2]))"
            ]
          },
          "metadata": {
            "tags": []
          },
          "execution_count": 317
        }
      ]
    },
    {
      "cell_type": "code",
      "metadata": {
        "colab": {
          "base_uri": "https://localhost:8080/"
        },
        "id": "mzVID5MB6uMq",
        "outputId": "86097fb1-07b1-4d81-c7af-9c192d180e3a"
      },
      "source": [
        "#3.17 Add corresponding elements of two 2d arrays\n",
        "\n",
        "arr1=np.array([[9,8,0],\n",
        "                [6,0,5],\n",
        "                [10,3,1]])\n",
        "\n",
        "arr2=np.array([[1,2,0],\n",
        "                [3,0,4],\n",
        "                [5,1,0]])\n",
        "\n",
        "arr1+arr2\n"
      ],
      "execution_count": 318,
      "outputs": [
        {
          "output_type": "execute_result",
          "data": {
            "text/plain": [
              "array([[10, 10,  0],\n",
              "       [ 9,  0,  9],\n",
              "       [15,  4,  1]])"
            ]
          },
          "metadata": {
            "tags": []
          },
          "execution_count": 318
        }
      ]
    },
    {
      "cell_type": "code",
      "metadata": {
        "colab": {
          "base_uri": "https://localhost:8080/"
        },
        "id": "YbZb37eu7F6L",
        "outputId": "b707db06-c37d-4319-b496-f6bf7fa2233b"
      },
      "source": [
        "#3.18 Multiply corresponding elements of two 2d arrays\n",
        "arr2*arr1"
      ],
      "execution_count": 319,
      "outputs": [
        {
          "output_type": "execute_result",
          "data": {
            "text/plain": [
              "array([[ 9, 16,  0],\n",
              "       [18,  0, 20],\n",
              "       [50,  3,  0]])"
            ]
          },
          "metadata": {
            "tags": []
          },
          "execution_count": 319
        }
      ]
    },
    {
      "cell_type": "code",
      "metadata": {
        "colab": {
          "base_uri": "https://localhost:8080/"
        },
        "id": "zXlr-POz7Z9l",
        "outputId": "59f15094-d2d8-4b4e-a02e-b18183d4c1a6"
      },
      "source": [
        "#3.19 Return total bytes consumed by the array\n",
        "arr2d.nbytes"
      ],
      "execution_count": 320,
      "outputs": [
        {
          "output_type": "execute_result",
          "data": {
            "text/plain": [
              "72"
            ]
          },
          "metadata": {
            "tags": []
          },
          "execution_count": 320
        }
      ]
    }
  ]
}